{
  "cells": [
    {
      "cell_type": "markdown",
      "metadata": {
        "id": "H9wADwK78DCz"
      },
      "source": [
        "# Proyek Analisis Data: Air Quality Dataset\n",
        "- **Nama:** Satya Bintang E R\n",
        "- **Email:** satyabintang10@gmail.com\n",
        "- **ID Dicoding:** satchh"
      ]
    },
    {
      "cell_type": "markdown",
      "metadata": {
        "id": "eE0raob58DC0"
      },
      "source": [
        "## Menentukan Pertanyaan Bisnis"
      ]
    },
    {
      "cell_type": "markdown",
      "metadata": {
        "id": "GmQeQ5YF8DC0"
      },
      "source": [
        "- Bagaimana tren AQI Index ?\n",
        "- Bagaimana statistik deskriptif komponen AQI Index ?\n",
        "- Bagaimana perbandingan pollutan sebagai pembentuk AQI Index ?\n",
        "- Berapa estimasi AQI Index yang dihasilkan oleh pollutan ?\n",
        "- Bagaimana hubungan antara kecepatan angin dengan arah mata angin ?\n",
        "- Bagaimana korelasi / hubungan ( heatmap ) antara pollutan ?"
      ]
    },
    {
      "cell_type": "markdown",
      "metadata": {
        "id": "H-z4QGlO8DC1"
      },
      "source": [
        "## Import Semua Packages/Library yang Digunakan"
      ]
    },
    {
      "cell_type": "code",
      "execution_count": null,
      "metadata": {
        "id": "FVYwaObI8DC1"
      },
      "outputs": [],
      "source": [
        "import streamlit as st\n",
        "import pandas as pd\n",
        "import matplotlib.pyplot as plt\n",
        "import seaborn as sns\n",
        "import plotly.graph_objects as go\n",
        "import numpy as np"
      ]
    },
    {
      "cell_type": "markdown",
      "metadata": {
        "id": "h_Sh51Xy8DC1"
      },
      "source": [
        "## Data Wrangling"
      ]
    },
    {
      "cell_type": "markdown",
      "metadata": {
        "id": "sXU2GBYu8DC1"
      },
      "source": [
        "### Gathering Data"
      ]
    },
    {
      "cell_type": "code",
      "execution_count": null,
      "metadata": {
        "id": "zjCBk1BI8DC1"
      },
      "outputs": [],
      "source": [
        "import glob\n",
        "\n",
        "# Path ke subfolder\n",
        "folder_path = \"extracted_files/PRSA_Data_20130301-20170228\"\n",
        "\n",
        "# Mencari semua file CSV dalam subfolder\n",
        "csv_files = glob.glob(os.path.join(folder_path, \"*.csv\"))\n",
        "\n",
        "# Menampilkan daftar file CSV\n",
        "print(\"Daftar file CSV dalam folder:\")\n",
        "for file in csv_files:\n",
        "    print(\"-\", os.path.basename(file))\n",
        "\n",
        "try:\n",
        "    df = pd.read_csv(\"C:/Users/resia/Downloads/airrdataa.csv\", encoding=\"utf-8\")\n",
        "except Exception as e:\n",
        "    st.error(f\"Error reading CSV file: {e}\")\n",
        "    st.stop()"
      ]
    },
    {
      "cell_type": "markdown",
      "source": [
        "**Insight:**\n",
        "- Mengekstrak zip yang berisi beberapa data file csv\n",
        "- Mengimpor dan membaca beberapa file csv tersebut\n",
        "- Menyatukan beberapa file csv tersebut menjadi satu file untuk memudahkan analisis"
      ],
      "metadata": {
        "id": "MMi6xGaDkbCi"
      }
    },
    {
      "cell_type": "markdown",
      "metadata": {
        "id": "FHSiqaZp8DC1"
      },
      "source": [
        "### Assessing Data"
      ]
    },
    {
      "cell_type": "code",
      "source": [
        "final_df.info()\n",
        "final_df.isna().sum()"
      ],
      "metadata": {
        "id": "ax-3tEjc9Cj1"
      },
      "execution_count": null,
      "outputs": []
    },
    {
      "cell_type": "markdown",
      "source": [
        "**Insight:**\n",
        "- Melihat informasi awal dataset ( tipe data, jumlah data, banyaknya variabel )\n",
        "- Mengetahui data yang memiliki jumlah berbeda"
      ],
      "metadata": {
        "id": "7dtxhAPrkhPL"
      }
    },
    {
      "cell_type": "markdown",
      "metadata": {
        "id": "EhN5R4hr8DC1"
      },
      "source": [
        "### Cleaning Data"
      ]
    },
    {
      "cell_type": "code",
      "source": [
        "# Menghapus spasi dari nama kolom (jika ada)\n",
        "df.columns = df.columns.str.strip()\n",
        "final_df.dropna(inplace=True)"
      ],
      "metadata": {
        "id": "jVnYpprE9Evz"
      },
      "execution_count": null,
      "outputs": []
    },
    {
      "cell_type": "markdown",
      "source": [
        "**Insight:**\n",
        "- Melakukan pengecekan data yang kosong\n",
        "- Menghapus nilai yang kosong ( NaN ) untuk membuat data yang bersih"
      ],
      "metadata": {
        "id": "Q_5ejIqckiSP"
      }
    },
    {
      "cell_type": "markdown",
      "metadata": {
        "id": "gp-Y6wU38DC1"
      },
      "source": [
        "## Exploratory Data Analysis (EDA)"
      ]
    },
    {
      "cell_type": "markdown",
      "metadata": {
        "id": "MW7WF2kr8DC1"
      },
      "source": [
        "### Explore ..."
      ]
    },
    {
      "cell_type": "code",
      "execution_count": null,
      "metadata": {
        "id": "e9CQCZjk8DC2"
      },
      "outputs": [],
      "source": [
        "# Menampilkan statistik dasar untuk data yang difilter\n",
        "st.subheader('Basic Statistics of Selected Data')\n",
        "st.write(filtered_df[['PM2.5', 'PM10', 'SO2', 'NO2', 'CO', 'O3', 'TEMP', 'PRES', 'DEWP', 'RAIN']].describe())"
      ]
    },
    {
      "cell_type": "markdown",
      "source": [
        "**Insight:**\n",
        "- Menampilkan statistik deskriptif untuk keseluruhan variabel\n",
        "- Mengetahui persebaran keseluruhan variabel"
      ],
      "metadata": {
        "id": "th_Lzl2Fkj9O"
      }
    },
    {
      "cell_type": "markdown",
      "metadata": {
        "id": "zsyZjqak8DC2"
      },
      "source": [
        "## Visualization & Explanatory Analysis"
      ]
    },
    {
      "cell_type": "markdown",
      "metadata": {
        "id": "HZxOiQ6n8DC2"
      },
      "source": [
        "### Pertanyaan 1:"
      ]
    },
    {
      "cell_type": "code",
      "execution_count": null,
      "metadata": {
        "id": "1swJUdAD8DC2"
      },
      "outputs": [],
      "source": [
        "st.subheader(\"AQI Trend per Month\")\n",
        "monthly_aqi = filtered_df.groupby('month')[['PM2.5', 'PM10', 'SO2', 'NO2', 'CO', 'O3']].mean().max(axis=1)\n",
        "fig, ax = plt.subplots()\n",
        "ax.plot(monthly_aqi.index, monthly_aqi.values, marker='o', linestyle='-', color='purple', label='AQI')\n",
        "ax.set_xlabel('Month')\n",
        "ax.set_ylabel('AQI Level')\n",
        "ax.set_title(f'AQI Trend for {selected_station} in {selected_year}')\n",
        "ax.legend()\n",
        "st.pyplot(fig)"
      ]
    },
    {
      "cell_type": "markdown",
      "metadata": {
        "id": "DgHI7CiU8DC2"
      },
      "source": [
        "### Pertanyaan 2:"
      ]
    },
    {
      "cell_type": "code",
      "execution_count": null,
      "metadata": {
        "id": "Go0lCsvO8DC2"
      },
      "outputs": [],
      "source": [
        "# Perhitungan AQI sederhana\n",
        "st.subheader(\"Air Quality Index (AQI)\")\n",
        "AQI = filtered_df[['PM2.5', 'PM10', 'SO2', 'NO2', 'CO', 'O3']].mean().max()\n",
        "st.metric(label=\"Estimated AQI Index\", value=round(AQI, 2))\n",
        "\n",
        "# Gauge Chart untuk AQI\n",
        "st.subheader(\"Air Quality Gauge Indicator\")\n",
        "gauge = go.Figure(go.Indicator(\n",
        "    mode=\"gauge+number\",\n",
        "    value=AQI,\n",
        "    title={'text': \"AQI Level\"},\n",
        "    gauge={'axis': {'range': [None, 500]}, 'bar': {'color': \"purple\"}}\n",
        "))\n",
        "st.plotly_chart(gauge)"
      ]
    },
    {
      "cell_type": "markdown",
      "source": [
        "**Insight:**\n",
        "- Mengetahui pola tren AQI Index di suatu wilayah dan tahun tertentu ( dalam bulan )\n",
        "- Mengestimasi AQI Index dari perhitungan variabel pollutan"
      ],
      "metadata": {
        "id": "_0-36BDLklRg"
      }
    },
    {
      "cell_type": "markdown",
      "source": [
        "## Analisis Lanjutan (Opsional)"
      ],
      "metadata": {
        "id": "9y4VUsmcYNZ5"
      }
    },
    {
      "cell_type": "code",
      "source": [
        "# Wind Rose Chart\n",
        "st.subheader(\"Wind Rose Chart\")\n",
        "wind_data = filtered_df.groupby('wd')['WSPM'].mean()\n",
        "fig, ax = plt.subplots()\n",
        "wind_data.plot(kind='bar', ax=ax, color='skyblue')\n",
        "ax.set_ylabel('Average Wind Speed')\n",
        "ax.set_title('Wind Speed Distribution by Wind Direction')\n",
        "st.pyplot(fig)\n",
        "\n",
        "# Heatmap Korelasi Polutan\n",
        "st.subheader(\"Heatmap: Correlation Between Pollutants\")\n",
        "corr = filtered_df[['PM2.5', 'PM10', 'SO2', 'NO2', 'CO', 'O3']].corr()\n",
        "fig, ax = plt.subplots()\n",
        "sns.heatmap(corr, annot=True, cmap='coolwarm', ax=ax)\n",
        "st.pyplot(fig)\n",
        "\n",
        "# Scatter Plot 2 Variabel (TEMP vs PM2.5)\n",
        "st.subheader(\"Scatter Plot: Temperature vs PM2.5\")\n",
        "fig, ax = plt.subplots()\n",
        "ax.scatter(filtered_df['TEMP'], filtered_df['PM2.5'], alpha=0.5, color='red')\n",
        "ax.set_xlabel('Temperature (°C)')\n",
        "ax.set_ylabel('PM2.5 Level')\n",
        "ax.set_title('Temperature vs PM2.5')\n",
        "st.pyplot(fig)\n",
        "\n",
        "# Scatter Plot Hubungan Suhu, Tekanan, Kelembapan, dan Polusi\n",
        "st.subheader(\"Scatter Plot: Temperature, Pressure, and PM2.5\")\n",
        "fig, ax = plt.subplots()\n",
        "sc = ax.scatter(filtered_df['TEMP'], filtered_df['PRES'], c=filtered_df['PM2.5'], cmap='coolwarm', alpha=0.7)\n",
        "plt.colorbar(sc, label='PM2.5 Level')\n",
        "ax.set_xlabel('Temperature (°C)')\n",
        "ax.set_ylabel('Pressure (hPa)')\n",
        "ax.set_title('Relationship Between Temperature, Pressure, and PM2.5')\n",
        "st.pyplot(fig)\n"
      ],
      "metadata": {
        "id": "iWhnzsJGYUCO"
      },
      "execution_count": null,
      "outputs": []
    },
    {
      "cell_type": "markdown",
      "metadata": {
        "id": "_WeHlCeX8DC2"
      },
      "source": [
        "## Conclusion"
      ]
    },
    {
      "cell_type": "markdown",
      "metadata": {
        "id": "ZTcyR48Y8DC2"
      },
      "source": [
        "- Pola tren waktu ( dalam bulan ) cenderung fluktuatif menyesuaikan wilayah dan waktu\n",
        "- Perhitungan AQI Index didasarkan pada perhitungan variabel pollutan yang menunjukkan kondisi udara di suatu wilayah"
      ]
    }
  ],
  "metadata": {
    "kernelspec": {
      "display_name": "Python 3",
      "language": "python",
      "name": "python3"
    },
    "language_info": {
      "name": "python",
      "version": "3.8.0 (tags/v3.8.0:fa919fd, Oct 14 2019, 19:21:23) [MSC v.1916 32 bit (Intel)]"
    },
    "orig_nbformat": 4,
    "vscode": {
      "interpreter": {
        "hash": "972b3bf27e332e87b5379f2791f6ef9dfc79c71018c370b0d7423235e20fe4d7"
      }
    },
    "colab": {
      "provenance": []
    }
  },
  "nbformat": 4,
  "nbformat_minor": 0
}